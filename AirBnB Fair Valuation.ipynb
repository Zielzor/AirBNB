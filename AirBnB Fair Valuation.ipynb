{
 "metadata": {
  "language_info": {
   "codemirror_mode": {
    "name": "ipython",
    "version": 3
   },
   "file_extension": ".py",
   "mimetype": "text/x-python",
   "name": "python",
   "nbconvert_exporter": "python",
   "pygments_lexer": "ipython3",
   "version": "3.7.7-final"
  },
  "orig_nbformat": 2,
  "kernelspec": {
   "name": "python3",
   "display_name": "Python 3"
  }
 },
 "nbformat": 4,
 "nbformat_minor": 2,
 "cells": [
  {
   "source": [
    "# Basic information"
   ],
   "cell_type": "markdown",
   "metadata": {}
  },
  {
   "source": [
    "<li>The owner has been a host since August 2010\n",
    "<li>The location is lon:151.274506, lat:33.889087\n",
    "<li>The current review score rating 95.0\n",
    "<li>Number of reviews 53\n",
    "<li>Minimum nights 4\n",
    "<li>The house can accomodate 10 people.\n",
    "<li>The owner currently charges a cleaning fee of 370\n",
    "<li>The house has 3 bathrooms, 5 bedrooms, 7 beds.\n",
    "<li>The house is available for 255 of the next 365 days\n",
    "<li>The client is verified, and they are a superhost.\n",
    "<li>The cancelation policy is strict with a 14 days grace period.\n",
    "<li>The host requires a security deposit of $1,500\n",
    "\n",
    "Data came from July 2018\n"
   ],
   "cell_type": "markdown",
   "metadata": {}
  },
  {
   "cell_type": "code",
   "execution_count": 14,
   "metadata": {},
   "outputs": [
    {
     "output_type": "execute_result",
     "data": {
      "text/plain": [
       "{'city': 'Bondi Beach',\n",
       " 'longitude': 151.274506,\n",
       " 'latitude': -33.88907,\n",
       " 'review_score_rating': 95,\n",
       " 'number_of_reviews': 53,\n",
       " 'minimum_nights': 4,\n",
       " 'accommodates': 10,\n",
       " 'bathrooms': 3,\n",
       " 'bedrooms': 5,\n",
       " 'beds': 7,\n",
       " 'security_deposit': 1500,\n",
       " 'cleaning_fee': 370,\n",
       " 'property_Type': 'House',\n",
       " 'room_type': 'Entire home/apt',\n",
       " 'availability_365': 255,\n",
       " 'host_identity_verified': 't',\n",
       " 'host_is_superhost': 't',\n",
       " 'cancellation_policy': 'strict_14_with_grace_period',\n",
       " 'host_since': <dateutil.parser._parser.parser at 0x14c49672cc8>}"
      ]
     },
     "metadata": {},
     "execution_count": 14
    }
   ],
   "source": [
    "# creation of Sample Customer Data later called SCD, hold as dict\n",
    "from dateutil import parser\n",
    "\n",
    "SCD_dict = {}\n",
    "SCD_dict[\"city\"] = \"Bondi Beach\" \n",
    "SCD_dict[\"longitude\"] = 151.274506 \n",
    "SCD_dict[\"latitude\"] = -33.88907 \n",
    "SCD_dict[\"review_score_rating\"] = 95 \n",
    "SCD_dict[\"number_of_reviews\"] = 53 \n",
    "SCD_dict[\"minimum_nights\"] = 4 \n",
    "SCD_dict[\"accommodates\"] = 10 \n",
    "SCD_dict[\"bathrooms\"] = 3 \n",
    "SCD_dict[\"bedrooms\"] = 5\n",
    "SCD_dict[\"beds\"] = 7\n",
    "SCD_dict[\"security_deposit\"] = 1500\n",
    "SCD_dict[\"cleaning_fee\"] = 370\n",
    "SCD_dict[\"property_Type\"] = \"House\"\n",
    "SCD_dict[\"room_type\"] = \"Entire home/apt\"\n",
    "SCD_dict[\"availability_365\"] = 255\n",
    "SCD_dict[\"host_identity_verified\"] = \"t\" \n",
    "SCD_dict[\"host_is_superhost\"] = \"t\"\n",
    "SCD_dict[\"cancellation_policy\"] = \"strict_14_with_grace_period\"\n",
    "SCD_dict[\"host_since\"] = parser.parser(\"01-08-2010\") \n",
    "\n",
    "\n"
   ]
  },
  {
   "cell_type": "code",
   "execution_count": 11,
   "metadata": {},
   "outputs": [
    {
     "output_type": "stream",
     "name": "stdout",
     "text": [
      "Be patient: loading from github (2 minutes)\n",
      "Done\n"
     ]
    }
   ],
   "source": [
    "## This is simply a bit of importing logic that you don't have ..\n",
    "## .. to concern yourself with for now. \n",
    "import pandas as pd \n",
    "import numpy as np \n",
    "import os \n",
    "from pathlib import Path\n",
    "\n",
    "github_p = \"https://raw.githubusercontent.com/Finance-781/FinML/master/Lecture%202%20-%20End-to-End%20ML%20Project%20/Practice/\"\n",
    "\n",
    "my_file = Path(\"datasets/sydney_airbnb.csv\") # Defines path\n",
    "if my_file.is_file():              # See if file exists\n",
    "    print(\"Local file found\")      \n",
    "    df = pd.read_csv('datasets/sydney_airbnb.csv')\n",
    "else:\n",
    "    print(\"Be patient: loading from github (2 minutes)\")\n",
    "    df = pd.read_csv(github_p+'datasets/sydney_airbnb.csv')\n",
    "    print(\"Done\")"
   ]
  },
  {
   "cell_type": "code",
   "execution_count": 13,
   "metadata": {},
   "outputs": [
    {
     "output_type": "execute_result",
     "data": {
      "text/plain": [
       "Index(['id', 'listing_url', 'name', 'summary', 'space', 'description',\n",
       "       'neighborhood_overview', 'notes', 'transit', 'access', 'interaction',\n",
       "       'house_rules', 'picture_url', 'host_id', 'host_url', 'host_name',\n",
       "       'host_since', 'host_location', 'host_about', 'host_response_time',\n",
       "       'host_response_rate', 'host_is_superhost', 'host_thumbnail_url',\n",
       "       'host_picture_url', 'host_neighbourhood', 'host_listings_count',\n",
       "       'host_total_listings_count', 'host_verifications',\n",
       "       'host_has_profile_pic', 'host_identity_verified', 'street',\n",
       "       'neighbourhood', 'neighbourhood_cleansed',\n",
       "       'neighbourhood_group_cleansed', 'city', 'state', 'zipcode', 'market',\n",
       "       'smart_location', 'country_code', 'country', 'latitude', 'longitude',\n",
       "       'is_location_exact', 'property_type', 'room_type', 'accommodates',\n",
       "       'bathrooms', 'bedrooms', 'beds', 'bed_type', 'amenities', 'square_feet',\n",
       "       'price', 'weekly_price', 'monthly_price', 'security_deposit',\n",
       "       'cleaning_fee', 'guests_included', 'extra_people', 'minimum_nights',\n",
       "       'maximum_nights', 'calendar_updated', 'has_availability',\n",
       "       'availability_30', 'availability_60', 'availability_90',\n",
       "       'availability_365', 'number_of_reviews', 'first_review', 'last_review',\n",
       "       'review_scores_rating', 'review_scores_accuracy',\n",
       "       'review_scores_cleanliness', 'review_scores_checkin',\n",
       "       'review_scores_communication', 'review_scores_location',\n",
       "       'review_scores_value', 'instant_bookable', 'cancellation_policy',\n",
       "       'require_guest_profile_picture', 'require_guest_phone_verification',\n",
       "       'calculated_host_listings_count', 'reviews_per_month'],\n",
       "      dtype='object')"
      ]
     },
     "metadata": {},
     "execution_count": 13
    }
   ],
   "source": [
    "df.columns"
   ]
  },
  {
   "cell_type": "code",
   "execution_count": 15,
   "metadata": {},
   "outputs": [],
   "source": [
    "chosen = [\"price\",\"city\",\"longitude\",\"latitude\",\"review_scores_rating\",\"number_of_reviews\",\"minimum_nights\",\"security_deposit\",\"cleaning_fee\",\n",
    "        \"accommodates\",\"bathrooms\",\"bedrooms\",\"beds\",\"property_type\",\"room_type\",\"availability_365\" ,\"host_identity_verified\", \n",
    "        \"host_is_superhost\",\"host_since\",\"cancellation_policy\"] \n",
    "df = df[chosen]"
   ]
  },
  {
   "cell_type": "code",
   "execution_count": 17,
   "metadata": {},
   "outputs": [
    {
     "output_type": "execute_result",
     "data": {
      "text/plain": [
       "      price         city   longitude   latitude  review_scores_rating  \\\n",
       "0   $65.00   Potts Point  151.226562 -33.869168                  92.0   \n",
       "1   $98.00       Pyrmont  151.191896 -33.865153                  95.0   \n",
       "2  $469.00     Balgowlah  151.261722 -33.800929                 100.0   \n",
       "3   $63.00       Redfern  151.200450 -33.890765                  89.0   \n",
       "4   $39.00       Redfern  151.200896 -33.889667                  90.0   \n",
       "\n",
       "   number_of_reviews  minimum_nights security_deposit cleaning_fee  \\\n",
       "0                177               2              NaN          NaN   \n",
       "1                468               2           $0.00       $55.00    \n",
       "2                  1               5         $900.00      $100.00    \n",
       "3                172               2              NaN          NaN   \n",
       "4                147               2              NaN          NaN   \n",
       "\n",
       "   accommodates  bathrooms  bedrooms  beds property_type        room_type  \\\n",
       "0             1        NaN       1.0   1.0     Apartment     Private room   \n",
       "1             2        1.0       1.0   1.0     Townhouse     Private room   \n",
       "2             6        3.0       3.0   3.0         House  Entire home/apt   \n",
       "3             2        1.0       1.0   1.0     Apartment     Private room   \n",
       "4             1        2.0       1.0   1.0     Apartment      Shared room   \n",
       "\n",
       "   availability_365 host_identity_verified host_is_superhost host_since  \\\n",
       "0               339                      f                 t   23/09/09   \n",
       "1               188                      t                 f   14/05/09   \n",
       "2               168                      t                 f   20/11/09   \n",
       "3               215                      t                 f   30/11/09   \n",
       "4               287                      t                 f   30/11/09   \n",
       "\n",
       "           cancellation_policy  \n",
       "0                     moderate  \n",
       "1  strict_14_with_grace_period  \n",
       "2  strict_14_with_grace_period  \n",
       "3                     moderate  \n",
       "4                     moderate  "
      ],
      "text/html": "<div>\n<style scoped>\n    .dataframe tbody tr th:only-of-type {\n        vertical-align: middle;\n    }\n\n    .dataframe tbody tr th {\n        vertical-align: top;\n    }\n\n    .dataframe thead th {\n        text-align: right;\n    }\n</style>\n<table border=\"1\" class=\"dataframe\">\n  <thead>\n    <tr style=\"text-align: right;\">\n      <th></th>\n      <th>price</th>\n      <th>city</th>\n      <th>longitude</th>\n      <th>latitude</th>\n      <th>review_scores_rating</th>\n      <th>number_of_reviews</th>\n      <th>minimum_nights</th>\n      <th>security_deposit</th>\n      <th>cleaning_fee</th>\n      <th>accommodates</th>\n      <th>bathrooms</th>\n      <th>bedrooms</th>\n      <th>beds</th>\n      <th>property_type</th>\n      <th>room_type</th>\n      <th>availability_365</th>\n      <th>host_identity_verified</th>\n      <th>host_is_superhost</th>\n      <th>host_since</th>\n      <th>cancellation_policy</th>\n    </tr>\n  </thead>\n  <tbody>\n    <tr>\n      <th>0</th>\n      <td>$65.00</td>\n      <td>Potts Point</td>\n      <td>151.226562</td>\n      <td>-33.869168</td>\n      <td>92.0</td>\n      <td>177</td>\n      <td>2</td>\n      <td>NaN</td>\n      <td>NaN</td>\n      <td>1</td>\n      <td>NaN</td>\n      <td>1.0</td>\n      <td>1.0</td>\n      <td>Apartment</td>\n      <td>Private room</td>\n      <td>339</td>\n      <td>f</td>\n      <td>t</td>\n      <td>23/09/09</td>\n      <td>moderate</td>\n    </tr>\n    <tr>\n      <th>1</th>\n      <td>$98.00</td>\n      <td>Pyrmont</td>\n      <td>151.191896</td>\n      <td>-33.865153</td>\n      <td>95.0</td>\n      <td>468</td>\n      <td>2</td>\n      <td>$0.00</td>\n      <td>$55.00</td>\n      <td>2</td>\n      <td>1.0</td>\n      <td>1.0</td>\n      <td>1.0</td>\n      <td>Townhouse</td>\n      <td>Private room</td>\n      <td>188</td>\n      <td>t</td>\n      <td>f</td>\n      <td>14/05/09</td>\n      <td>strict_14_with_grace_period</td>\n    </tr>\n    <tr>\n      <th>2</th>\n      <td>$469.00</td>\n      <td>Balgowlah</td>\n      <td>151.261722</td>\n      <td>-33.800929</td>\n      <td>100.0</td>\n      <td>1</td>\n      <td>5</td>\n      <td>$900.00</td>\n      <td>$100.00</td>\n      <td>6</td>\n      <td>3.0</td>\n      <td>3.0</td>\n      <td>3.0</td>\n      <td>House</td>\n      <td>Entire home/apt</td>\n      <td>168</td>\n      <td>t</td>\n      <td>f</td>\n      <td>20/11/09</td>\n      <td>strict_14_with_grace_period</td>\n    </tr>\n    <tr>\n      <th>3</th>\n      <td>$63.00</td>\n      <td>Redfern</td>\n      <td>151.200450</td>\n      <td>-33.890765</td>\n      <td>89.0</td>\n      <td>172</td>\n      <td>2</td>\n      <td>NaN</td>\n      <td>NaN</td>\n      <td>2</td>\n      <td>1.0</td>\n      <td>1.0</td>\n      <td>1.0</td>\n      <td>Apartment</td>\n      <td>Private room</td>\n      <td>215</td>\n      <td>t</td>\n      <td>f</td>\n      <td>30/11/09</td>\n      <td>moderate</td>\n    </tr>\n    <tr>\n      <th>4</th>\n      <td>$39.00</td>\n      <td>Redfern</td>\n      <td>151.200896</td>\n      <td>-33.889667</td>\n      <td>90.0</td>\n      <td>147</td>\n      <td>2</td>\n      <td>NaN</td>\n      <td>NaN</td>\n      <td>1</td>\n      <td>2.0</td>\n      <td>1.0</td>\n      <td>1.0</td>\n      <td>Apartment</td>\n      <td>Shared room</td>\n      <td>287</td>\n      <td>t</td>\n      <td>f</td>\n      <td>30/11/09</td>\n      <td>moderate</td>\n    </tr>\n  </tbody>\n</table>\n</div>"
     },
     "metadata": {},
     "execution_count": 17
    }
   ],
   "source": [
    "df.head()"
   ]
  },
  {
   "cell_type": "code",
   "execution_count": 18,
   "metadata": {},
   "outputs": [
    {
     "output_type": "execute_result",
     "data": {
      "text/plain": [
       "Index(['price', 'city', 'longitude', 'latitude', 'review_scores_rating',\n",
       "       'number_of_reviews', 'minimum_nights', 'security_deposit',\n",
       "       'cleaning_fee', 'accommodates', 'bathrooms', 'bedrooms', 'beds',\n",
       "       'property_type', 'room_type', 'availability_365',\n",
       "       'host_identity_verified', 'host_is_superhost', 'host_since',\n",
       "       'cancellation_policy'],\n",
       "      dtype='object')"
      ]
     },
     "metadata": {},
     "execution_count": 18
    }
   ],
   "source": [
    "df.columns"
   ]
  },
  {
   "cell_type": "code",
   "execution_count": 19,
   "metadata": {},
   "outputs": [
    {
     "output_type": "execute_result",
     "data": {
      "text/plain": [
       "(27070, 20)"
      ]
     },
     "metadata": {},
     "execution_count": 19
    }
   ],
   "source": [
    "df.shape "
   ]
  },
  {
   "cell_type": "code",
   "execution_count": 20,
   "metadata": {},
   "outputs": [
    {
     "output_type": "stream",
     "name": "stdout",
     "text": [
      "<class 'pandas.core.frame.DataFrame'>\nRangeIndex: 27070 entries, 0 to 27069\nData columns (total 20 columns):\n #   Column                  Non-Null Count  Dtype  \n---  ------                  --------------  -----  \n 0   price                   27070 non-null  object \n 1   city                    27037 non-null  object \n 2   longitude               27070 non-null  float64\n 3   latitude                27070 non-null  float64\n 4   review_scores_rating    19512 non-null  float64\n 5   number_of_reviews       27070 non-null  int64  \n 6   minimum_nights          27070 non-null  int64  \n 7   security_deposit        16722 non-null  object \n 8   cleaning_fee            19250 non-null  object \n 9   accommodates            27070 non-null  int64  \n 10  bathrooms               27048 non-null  float64\n 11  bedrooms                27062 non-null  float64\n 12  beds                    27037 non-null  float64\n 13  property_type           27070 non-null  object \n 14  room_type               27070 non-null  object \n 15  availability_365        27070 non-null  int64  \n 16  host_identity_verified  27035 non-null  object \n 17  host_is_superhost       27035 non-null  object \n 18  host_since              27035 non-null  object \n 19  cancellation_policy     27070 non-null  object \ndtypes: float64(6), int64(4), object(10)\nmemory usage: 4.1+ MB\n"
     ]
    }
   ],
   "source": [
    "df.info()"
   ]
  },
  {
   "cell_type": "code",
   "execution_count": null,
   "metadata": {},
   "outputs": [],
   "source": []
  }
 ]
}